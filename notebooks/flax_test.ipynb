{
 "cells": [
  {
   "cell_type": "code",
   "execution_count": null,
   "metadata": {},
   "outputs": [],
   "source": [
    "import flax\n",
    "from flax import linen as nn\n",
    "\n",
    "from jax import random, Array\n",
    "from pprint import pprint\n",
    "\n",
    "class Model(nn.Module):\n",
    "    \n",
    "    def setup(self):\n",
    "        self.dense = nn.Dense(features=2) # n output features\n",
    "\n",
    "    def __call__(self, batch: Array):\n",
    "        return self.dense(batch)\n",
    "\n",
    "model = Model()\n",
    "\n",
    "key1, key2 = random.split(random.key(0))\n",
    "print(key1, key2)\n",
    "\n",
    "x = random.normal(key1, (2,))\n",
    "params = model.init(key2, x) # infer model params via test input\n",
    "pprint(params)\n",
    "\n",
    "model.apply(params, x)"
   ]
  },
  {
   "cell_type": "code",
   "execution_count": null,
   "metadata": {},
   "outputs": [],
   "source": [
    "import jax\n",
    "\n",
    "jax.tree_util.tree_map(lambda x: x.shape, params)"
   ]
  },
  {
   "cell_type": "code",
   "execution_count": null,
   "metadata": {},
   "outputs": [],
   "source": [
    "# try compiling model using jit\n",
    "\n",
    "# Make an argument static if it affects how the computation is structured\n",
    "# Keep it dynamic if it's just data flowing through the computation\n",
    "\n",
    "\n",
    "def model_fn(params: dict, batch: Array):\n",
    "    return model.apply(params, batch)\n",
    "\n",
    "model_fn_jit = jax.jit(model_fn)\n",
    "\n",
    "model_fn_jit(params, x)\n"
   ]
  },
  {
   "cell_type": "code",
   "execution_count": null,
   "metadata": {},
   "outputs": [],
   "source": [
    "# Compare speed of non-compiled vs jit-compiled forward pass\n",
    "import time\n",
    "import numpy as np\n",
    "\n",
    "# Number of iterations for timing\n",
    "n_iters = 1000\n",
    "\n",
    "# Time non-compiled version\n",
    "start = time.time()\n",
    "for _ in range(n_iters):\n",
    "    out = model_fn(params, x) \n",
    "end = time.time()\n",
    "non_compiled_time = end - start\n",
    "\n",
    "# Time jit-compiled version \n",
    "# First call to compile\n",
    "_ = model_fn_jit(params, x)\n",
    "\n",
    "start = time.time()\n",
    "for _ in range(n_iters):\n",
    "    out = model_fn_jit(params, x)\n",
    "end = time.time()\n",
    "compiled_time = end - start\n",
    "\n",
    "print(f\"Non-compiled time: {non_compiled_time:.4f} seconds\")\n",
    "print(f\"JIT-compiled time: {compiled_time:.4f} seconds\") \n",
    "print(f\"Speedup: {non_compiled_time/compiled_time:.1f}x\")\n"
   ]
  },
  {
   "cell_type": "code",
   "execution_count": null,
   "metadata": {},
   "outputs": [],
   "source": [
    "# See the JAX program representation before optimization\n",
    "print(jax.make_jaxpr(model_fn)(params, x))\n",
    "\n",
    "# See the optimized version\n",
    "print(jax.make_jaxpr(model_fn_jit)(params, x))"
   ]
  },
  {
   "cell_type": "code",
   "execution_count": null,
   "metadata": {},
   "outputs": [],
   "source": [
    "# Get the HLO (High Level Optimizer) representation\n",
    "compiled = model_fn_jit.lower(params, x).compile()\n",
    "print(compiled.as_text())  # Print HLO IR"
   ]
  },
  {
   "cell_type": "code",
   "execution_count": null,
   "metadata": {},
   "outputs": [],
   "source": [
    "from flax import nnx\n",
    "\n",
    "class NnxModel(nnx.Module):\n",
    "    def __init__(self, rngs: nnx.Rngs):\n",
    "        super().__init__()\n",
    "        self.dense = nnx.Linear(2, 2, rngs=rngs)\n",
    "\n",
    "    def forward(self, x: Array) -> Array:\n",
    "        return self.dense(x)\n",
    "\n",
    "rngs = nnx.Rngs(0)\n",
    "model = NnxModel(rngs)\n",
    "\n",
    "model.forward(x)"
   ]
  },
  {
   "cell_type": "code",
   "execution_count": null,
   "metadata": {},
   "outputs": [],
   "source": []
  }
 ],
 "metadata": {
  "kernelspec": {
   "display_name": ".venv",
   "language": "python",
   "name": "python3"
  },
  "language_info": {
   "codemirror_mode": {
    "name": "ipython",
    "version": 3
   },
   "file_extension": ".py",
   "mimetype": "text/x-python",
   "name": "python",
   "nbconvert_exporter": "python",
   "pygments_lexer": "ipython3",
   "version": "3.11.10"
  }
 },
 "nbformat": 4,
 "nbformat_minor": 2
}
