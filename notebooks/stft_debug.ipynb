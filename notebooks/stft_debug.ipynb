{
 "cells": [
  {
   "cell_type": "code",
   "execution_count": null,
   "metadata": {},
   "outputs": [],
   "source": [
    "import sys\n",
    "sys.path.append(\"../\")\n",
    "\n",
    "from importlib import reload\n",
    "\n",
    "import jax.numpy as jnp\n",
    "import jax.scipy.signal as jsig\n",
    "\n",
    "import audio_utils\n",
    "reload(audio_utils)"
   ]
  },
  {
   "cell_type": "code",
   "execution_count": null,
   "metadata": {},
   "outputs": [],
   "source": [
    "# TODO: try to use jsig.istft equivalently to torch.istft, test currently failing\n",
    "from torchaudio.models._hdemucs import HDemucs as TorchHDemucs\n",
    "import torch\n",
    "\n",
    "def torch_model():\n",
    "\n",
    "    state_dict_path = \"../models/hdemucs_high_trained.pt\"\n",
    "\n",
    "    sources = [\"drums\", \"bass\", \"other\", \"vocals\"]\n",
    "    model = TorchHDemucs(sources=sources, nfft=4096, depth=6)\n",
    "\n",
    "    state_dict = torch.load(state_dict_path, weights_only=True)\n",
    "    model.load_state_dict(state_dict)\n",
    "    model.eval()\n",
    "\n",
    "    return model\n",
    "\n",
    "model = torch_model()\n",
    "model"
   ]
  },
  {
   "cell_type": "code",
   "execution_count": null,
   "metadata": {},
   "outputs": [],
   "source": [
    "import torch\n",
    "x = torch.randn(1, 2, 16, 100, dtype=torch.complex64)\n",
    "print(x.shape)\n",
    "xr = torch.view_as_real(x)\n",
    "print(xr.shape)"
   ]
  },
  {
   "cell_type": "code",
   "execution_count": null,
   "metadata": {},
   "outputs": [],
   "source": [
    "import jax.numpy as jnp\n",
    "import jax\n",
    "\n",
    "xj = jnp.array(x, dtype=jnp.complex64)\n",
    "print(xj.shape)\n",
    "xjr = jnp.real(xj)\n",
    "print(xjr.shape)"
   ]
  },
  {
   "cell_type": "code",
   "execution_count": null,
   "metadata": {},
   "outputs": [],
   "source": []
  }
 ],
 "metadata": {
  "kernelspec": {
   "display_name": ".venv",
   "language": "python",
   "name": "python3"
  },
  "language_info": {
   "codemirror_mode": {
    "name": "ipython",
    "version": 3
   },
   "file_extension": ".py",
   "mimetype": "text/x-python",
   "name": "python",
   "nbconvert_exporter": "python",
   "pygments_lexer": "ipython3",
   "version": "3.11.10"
  }
 },
 "nbformat": 4,
 "nbformat_minor": 2
}
